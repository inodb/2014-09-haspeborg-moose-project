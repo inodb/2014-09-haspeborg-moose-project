{
 "metadata": {
  "name": "",
  "signature": "sha256:55646b78171c8151211e395112ba323731b32c5f21b93a5c166c2f140df7a6f9"
 },
 "nbformat": 3,
 "nbformat_minor": 0,
 "worksheets": [
  {
   "cells": [
    {
     "cell_type": "heading",
     "level": 1,
     "metadata": {},
     "source": [
      "Clustering metagenomic assemblies with CONCOCT"
     ]
    },
    {
     "cell_type": "markdown",
     "metadata": {},
     "source": [
      "The idea is to cluster metagenomic assemblies of six related samples that we\n",
      "have into bins using [CONCOCT](https://github.com/BinPro/CONCOCT). For this we\n",
      "follow the [complete example](https://concoct.readthedocs.org/en/latest/complete_example.html)."
     ]
    },
    {
     "cell_type": "heading",
     "level": 2,
     "metadata": {},
     "source": [
      "Cutting up contigs\n"
     ]
    },
    {
     "cell_type": "markdown",
     "metadata": {},
     "source": [
      "The assemblies have already been done, so they have been put in the\n",
      "[config.json](config.json) file. All the rules to do the analysis are in the\n",
      "[Snakefile](Snakefile). Start by cutting up the contigs into chunks of 10K:"
     ]
    },
    {
     "cell_type": "code",
     "collapsed": false,
     "input": [
      "!snakemake --cores 6 all_cutup_10K"
     ],
     "language": "python",
     "metadata": {},
     "outputs": [
      {
       "output_type": "stream",
       "stream": "stdout",
       "text": [
        "rule all_cutup_10K:\n",
        "\tinput: concoct/103/cutup/contigs_10K.fasta, concoct/105/cutup/contigs_10K.fasta, concoct/101B/cutup/contigs_10K.fasta, concoct/102/cutup/contigs_10K.fasta, concoct/104/cutup/contigs_10K.fasta, concoct/106/cutup/contigs_10K.fasta\n",
        "Job counts:\n",
        "\tcount\tjobs\n",
        "\t1\tall_cutup_10K\n",
        "\t1\n"
       ]
      }
     ],
     "prompt_number": 13
    },
    {
     "cell_type": "markdown",
     "metadata": {},
     "source": [
      "This results in:"
     ]
    },
    {
     "cell_type": "code",
     "collapsed": false,
     "input": [
      "!ls concoct/*/cutup/contigs_10K.fasta"
     ],
     "language": "python",
     "metadata": {},
     "outputs": [
      {
       "output_type": "stream",
       "stream": "stdout",
       "text": [
        "concoct/101B/cutup/contigs_10K.fasta  concoct/103/cutup/contigs_10K.fasta  concoct/105/cutup/contigs_10K.fasta\r\n",
        "concoct/102/cutup/contigs_10K.fasta   concoct/104/cutup/contigs_10K.fasta  concoct/106/cutup/contigs_10K.fasta\r\n"
       ]
      }
     ],
     "prompt_number": 1
    },
    {
     "cell_type": "code",
     "collapsed": false,
     "input": [
      "mpl"
     ],
     "language": "python",
     "metadata": {},
     "outputs": [
      {
       "ename": "NameError",
       "evalue": "name 'mpl' is not defined",
       "output_type": "pyerr",
       "traceback": [
        "\u001b[1;31m---------------------------------------------------------------------------\u001b[0m\n\u001b[1;31mNameError\u001b[0m                                 Traceback (most recent call last)",
        "\u001b[1;32m<ipython-input-6-4d21832e7ab5>\u001b[0m in \u001b[0;36m<module>\u001b[1;34m()\u001b[0m\n\u001b[1;32m----> 1\u001b[1;33m \u001b[0mmpl\u001b[0m\u001b[1;33m\u001b[0m\u001b[0m\n\u001b[0m",
        "\u001b[1;31mNameError\u001b[0m: name 'mpl' is not defined"
       ]
      }
     ],
     "prompt_number": 6
    },
    {
     "cell_type": "code",
     "collapsed": false,
     "input": [
      "import json"
     ],
     "language": "python",
     "metadata": {},
     "outputs": [],
     "prompt_number": 7
    },
    {
     "cell_type": "code",
     "collapsed": false,
     "input": [
      "a = json.load(open(\"config.json\"))"
     ],
     "language": "python",
     "metadata": {},
     "outputs": [],
     "prompt_number": 11
    },
    {
     "cell_type": "code",
     "collapsed": false,
     "input": [
      "a"
     ],
     "language": "python",
     "metadata": {},
     "outputs": [
      {
       "metadata": {},
       "output_type": "pyout",
       "prompt_number": 12,
       "text": [
        "{'concoct_load_env': 'source activate concoct_env',\n",
        " 'concoct_assemblies': {'104': '/proj/b2010008/nobackup/projects/moose/metassemble/sep-assemblies/104/metassemble/assemblies/ray/noscaf/newbler/ma-merge.fa',\n",
        "  '105': '/proj/b2010008/nobackup/projects/moose/metassemble/sep-assemblies-lindgren/105/newbler/454AllContigs.fna',\n",
        "  '106': '/proj/b2010008/nobackup/projects/moose/metassemble/sep-assemblies-lindgren/106/newbler/454AllContigs.fna',\n",
        "  '101B': '/proj/b2010008/nobackup/projects/moose/metassemble/sep-assemblies/101B/metassemble/assemblies/ray/noscaf/newbler/ma-merge.fa',\n",
        "  '103': '/proj/b2010008/nobackup/projects/moose/metassemble/sep-assemblies/103/metassemble/assemblies/ray/noscaf/newbler/ma-merge.fa',\n",
        "  '102': '/proj/b2010008/nobackup/projects/moose/metassemble/sep-assemblies-lindgren/102/newbler/454AllContigs.fna'},\n",
        " 'concoct_scripts': '/glob/inod/github/concoct-inodb/scripts'}"
       ]
      }
     ],
     "prompt_number": 12
    },
    {
     "cell_type": "code",
     "collapsed": false,
     "input": [
      "a[\"concoct_assemblies\"]"
     ],
     "language": "python",
     "metadata": {},
     "outputs": [
      {
       "metadata": {},
       "output_type": "pyout",
       "prompt_number": 13,
       "text": [
        "{'104': '/proj/b2010008/nobackup/projects/moose/metassemble/sep-assemblies/104/metassemble/assemblies/ray/noscaf/newbler/ma-merge.fa',\n",
        " '105': '/proj/b2010008/nobackup/projects/moose/metassemble/sep-assemblies-lindgren/105/newbler/454AllContigs.fna',\n",
        " '106': '/proj/b2010008/nobackup/projects/moose/metassemble/sep-assemblies-lindgren/106/newbler/454AllContigs.fna',\n",
        " '101B': '/proj/b2010008/nobackup/projects/moose/metassemble/sep-assemblies/101B/metassemble/assemblies/ray/noscaf/newbler/ma-merge.fa',\n",
        " '103': '/proj/b2010008/nobackup/projects/moose/metassemble/sep-assemblies/103/metassemble/assemblies/ray/noscaf/newbler/ma-merge.fa',\n",
        " '102': '/proj/b2010008/nobackup/projects/moose/metassemble/sep-assemblies-lindgren/102/newbler/454AllContigs.fna'}"
       ]
      }
     ],
     "prompt_number": 13
    },
    {
     "cell_type": "code",
     "collapsed": false,
     "input": [
      "[1 for a in [\"5\",\"7\"] if a in [\"5\",\"6\"]]"
     ],
     "language": "python",
     "metadata": {},
     "outputs": [
      {
       "metadata": {},
       "output_type": "pyout",
       "prompt_number": 22,
       "text": [
        "[1]"
       ]
      }
     ],
     "prompt_number": 22
    },
    {
     "cell_type": "code",
     "collapsed": false,
     "input": [
      "sum(int(\"5\" in [\"5\",\"6\"]))"
     ],
     "language": "python",
     "metadata": {},
     "outputs": [
      {
       "ename": "TypeError",
       "evalue": "'int' object is not iterable",
       "output_type": "pyerr",
       "traceback": [
        "\u001b[1;31m---------------------------------------------------------------------------\u001b[0m\n\u001b[1;31mTypeError\u001b[0m                                 Traceback (most recent call last)",
        "\u001b[1;32m<ipython-input-18-792c74cab20f>\u001b[0m in \u001b[0;36m<module>\u001b[1;34m()\u001b[0m\n\u001b[1;32m----> 1\u001b[1;33m \u001b[0msum\u001b[0m\u001b[1;33m(\u001b[0m\u001b[0mint\u001b[0m\u001b[1;33m(\u001b[0m\u001b[1;34m\"5\"\u001b[0m \u001b[1;32min\u001b[0m \u001b[1;33m[\u001b[0m\u001b[1;34m\"5\"\u001b[0m\u001b[1;33m,\u001b[0m\u001b[1;34m\"6\"\u001b[0m\u001b[1;33m]\u001b[0m\u001b[1;33m)\u001b[0m\u001b[1;33m)\u001b[0m\u001b[1;33m\u001b[0m\u001b[0m\n\u001b[0m",
        "\u001b[1;31mTypeError\u001b[0m: 'int' object is not iterable"
       ]
      }
     ],
     "prompt_number": 18
    },
    {
     "cell_type": "code",
     "collapsed": false,
     "input": [
      "!jobinfo -u inod"
     ],
     "language": "python",
     "metadata": {},
     "outputs": [
      {
       "output_type": "stream",
       "stream": "stdout",
       "text": [
        "\r\n",
        "CLUSTER: milou\r\n",
        "Running jobs:\r\n"
       ]
      },
      {
       "output_type": "stream",
       "stream": "stdout",
       "text": [
        "   JOBID PARTITION                      NAME     USER        ACCOUNT ST          START_TIME  TIME_LEFT  NODES CPUS NODELIST(REASON)\r\n",
        "\r\n"
       ]
      },
      {
       "output_type": "stream",
       "stream": "stdout",
       "text": [
        "Nodes in use:                            202\r\n",
        "Nodes in devel, free to use:               3\r\n",
        "Nodes in other partitions, free to use:    0\r\n",
        "Nodes available, in total:               205\r\n",
        "\r\n",
        "Nodes in test and repair:                  0\r\n",
        "Nodes, otherwise out of service:           3\r\n",
        "Nodes, all in total:                     208\r\n"
       ]
      },
      {
       "output_type": "stream",
       "stream": "stdout",
       "text": [
        "\r\n",
        "Waiting jobs:\r\n"
       ]
      },
      {
       "output_type": "stream",
       "stream": "stdout",
       "text": [
        "   JOBID    POS PARTITION                      NAME     USER        ACCOUNT ST          START_TIME  TIME_LEFT PRIORITY CPUS NODELIST(REASON)     FEATURES DEPENDENCY\r\n"
       ]
      },
      {
       "output_type": "stream",
       "stream": "stdout",
       "text": [
        "\r\n",
        "Waiting bonus jobs:\r\n"
       ]
      }
     ],
     "prompt_number": 23
    },
    {
     "cell_type": "code",
     "collapsed": false,
     "input": [
      "!ls ~"
     ],
     "language": "python",
     "metadata": {},
     "outputs": [
      {
       "output_type": "stream",
       "stream": "stdout",
       "text": [
        "a.pp.log\t\t\t    contig_count_per_genome_4f4685e_dev2_31.tsv     Downloads\t       include\t\t       Music\t\t    perl-from-cpan     slurm-1213884.out  test-noroc.png\r\n",
        "asm-workshop\t\t\t    contig_count_per_genome_4f4685e_dev2_old31.tsv  etc\t\t       jobs.log\t\t       mycert.pem\t    Pictures\t       slurm-1217207.out  test-noroc.svg\r\n",
        "awk\t\t\t\t    contig_count_per_genome_4f4685e_dev2_old.tsv    extract.py\t       khmer_edits\t       notes-skype.txt\t    plos_template.tex  slurm-1217209.out  test.pdf\r\n",
        "bin\t\t\t\t    contig_count_per_genome_4f4685e_dev2.tsv\t    GEFES\t       lib\t\t       P911_102\t\t    private\t       slurm-2053275.out  test.png\r\n",
        "binning-workshop\t\t    contig_count_per_genome.py\t\t\t    gitrepos\t       Makefile\t\t       P911_103\t\t    proj\t       slurm-815664.out   test.svg\r\n",
        "b.pp.log\t\t\t    contig_count_per_genome.py!\t\t\t    glob\t       metagenomics\t       P911_104\t\t    Public\t       slurm-815666.out   texmf\r\n",
        "cert\t\t\t\t    contig_read_count_per_genome.py\t\t    HiSeq_2011\t       metagenomics_exercises  P911_105\t\t    python\t       src\t\t  Untitled0.ipynb\r\n",
        "checkm\t\t\t\t    contig_read_count_per_genome.py!\t\t    Hiseq_SeqPrep.tsv  metagenomics_workshop2  P911_106\t\t    R\t\t       Tablet\t\t  Videos\r\n",
        "chris-mock-masmvali-length-edit.py  Desktop\t\t\t\t\t    hiseq.tsv\t       MiSeq_2011\t       parse-assemstats.sh  share\t       Templates\t  vim_files.zip\r\n",
        "chris-mock-masmvali-length.py\t    Documents\t\t\t\t\t    Hiseq.tsv\t       Miseq_SeqPrep.tsv       perl\t\t    slurm-1213878.out  test\t\t  virtual_environments\r\n",
        "concoct-paragraph.txt\t\t    downloaded_software\t\t\t\t    id_rsa.pub\t       Miseq.tsv\t       perl5\t\t    slurm-1213881.out  test-noroc.pdf\t  webexport.txt\r\n"
       ]
      }
     ],
     "prompt_number": 24
    },
    {
     "cell_type": "code",
     "collapsed": false,
     "input": [],
     "language": "python",
     "metadata": {},
     "outputs": []
    }
   ],
   "metadata": {}
  }
 ]
}